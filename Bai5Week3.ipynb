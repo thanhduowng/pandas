{
  "cells": [
    {
      "cell_type": "markdown",
      "metadata": {
        "id": "view-in-github",
        "colab_type": "text"
      },
      "source": [
        "<a href=\"https://colab.research.google.com/github/thanhduowng/pandas/blob/main/Bai5Week3.ipynb\" target=\"_parent\"><img src=\"https://colab.research.google.com/assets/colab-badge.svg\" alt=\"Open In Colab\"/></a>"
      ]
    },
    {
      "cell_type": "markdown",
      "metadata": {
        "pycharm": {
          "name": "#%% md\n"
        },
        "id": "5qXpmQey3BCp"
      },
      "source": [
        "# Student Alcohol Consumption"
      ]
    },
    {
      "cell_type": "markdown",
      "metadata": {
        "pycharm": {
          "name": "#%% md\n"
        },
        "id": "_ZHy16df3BCq"
      },
      "source": [
        "### Introduction:\n",
        "\n",
        "This time you will download a dataset from the UCI.\n",
        "\n",
        "### Step 1. Import the necessary libraries"
      ]
    },
    {
      "cell_type": "code",
      "metadata": {
        "pycharm": {
          "name": "#%%\n"
        },
        "ExecuteTime": {
          "end_time": "2025-05-14T02:11:46.488478Z",
          "start_time": "2025-05-14T02:11:46.482814Z"
        },
        "id": "LPvp3Uf93BCq"
      },
      "source": [
        "import pandas as pd\n",
        "import numpy as np\n",
        "import matplotlib.pyplot as plt\n"
      ],
      "outputs": [],
      "execution_count": null
    },
    {
      "cell_type": "markdown",
      "metadata": {
        "pycharm": {
          "name": "#%% md\n"
        },
        "id": "AMu9COPi3BCq"
      },
      "source": [
        "### Step 2. Import the dataset from this [address](https://raw.githubusercontent.com/thieu1995/csv-files/main/data/pandas/student-mat.csv)."
      ]
    },
    {
      "cell_type": "markdown",
      "metadata": {
        "pycharm": {
          "name": "#%% md\n"
        },
        "id": "GsozUL3G3BCq"
      },
      "source": [
        "### Step 3. Assign it to a variable called df."
      ]
    },
    {
      "cell_type": "code",
      "metadata": {
        "pycharm": {
          "name": "#%%\n"
        },
        "ExecuteTime": {
          "end_time": "2025-05-14T02:12:35.073273Z",
          "start_time": "2025-05-14T02:12:34.430896Z"
        },
        "colab": {
          "base_uri": "https://localhost:8080/"
        },
        "id": "xLSfOki_3BCq",
        "outputId": "ddbb5ce7-8246-49a7-8210-747c1c3d4894"
      },
      "source": [
        "url = \"https://raw.githubusercontent.com/thieu1995/csv-files/main/data/pandas/student-mat.csv\"\n",
        "df = pd.read_csv(url)\n",
        "print(df)"
      ],
      "outputs": [
        {
          "output_type": "stream",
          "name": "stdout",
          "text": [
            "    school sex  age address famsize Pstatus  Medu  Fedu      Mjob      Fjob  \\\n",
            "0       GP   F   18       U     GT3       A     4     4   at_home   teacher   \n",
            "1       GP   F   17       U     GT3       T     1     1   at_home     other   \n",
            "2       GP   F   15       U     LE3       T     1     1   at_home     other   \n",
            "3       GP   F   15       U     GT3       T     4     2    health  services   \n",
            "4       GP   F   16       U     GT3       T     3     3     other     other   \n",
            "..     ...  ..  ...     ...     ...     ...   ...   ...       ...       ...   \n",
            "390     MS   M   20       U     LE3       A     2     2  services  services   \n",
            "391     MS   M   17       U     LE3       T     3     1  services  services   \n",
            "392     MS   M   21       R     GT3       T     1     1     other     other   \n",
            "393     MS   M   18       R     LE3       T     3     2  services     other   \n",
            "394     MS   M   19       U     LE3       T     1     1     other   at_home   \n",
            "\n",
            "     ... famrel freetime  goout  Dalc  Walc health absences  G1  G2  G3  \n",
            "0    ...      4        3      4     1     1      3        6   5   6   6  \n",
            "1    ...      5        3      3     1     1      3        4   5   5   6  \n",
            "2    ...      4        3      2     2     3      3       10   7   8  10  \n",
            "3    ...      3        2      2     1     1      5        2  15  14  15  \n",
            "4    ...      4        3      2     1     2      5        4   6  10  10  \n",
            "..   ...    ...      ...    ...   ...   ...    ...      ...  ..  ..  ..  \n",
            "390  ...      5        5      4     4     5      4       11   9   9   9  \n",
            "391  ...      2        4      5     3     4      2        3  14  16  16  \n",
            "392  ...      5        5      3     3     3      3        3  10   8   7  \n",
            "393  ...      4        4      1     3     4      5        0  11  12  10  \n",
            "394  ...      3        2      3     3     3      5        5   8   9   9  \n",
            "\n",
            "[395 rows x 33 columns]\n"
          ]
        }
      ],
      "execution_count": null
    },
    {
      "cell_type": "markdown",
      "metadata": {
        "pycharm": {
          "name": "#%% md\n"
        },
        "id": "rs_Kkz7l3BCr"
      },
      "source": [
        "### Step 4. For the purpose of this exercise slice the dataframe from 'school' until the 'guardian' column"
      ]
    },
    {
      "cell_type": "code",
      "metadata": {
        "pycharm": {
          "name": "#%%\n"
        },
        "ExecuteTime": {
          "end_time": "2025-05-14T02:13:07.232322Z",
          "start_time": "2025-05-14T02:13:07.208863Z"
        },
        "colab": {
          "base_uri": "https://localhost:8080/"
        },
        "id": "V54tbPHh3BCr",
        "outputId": "d282e548-727a-4d47-fc4a-2052e56783e5"
      },
      "source": [
        "df_sliced = df.loc[:, 'school':'guardian']\n",
        "print(df_sliced)\n"
      ],
      "outputs": [
        {
          "output_type": "stream",
          "name": "stdout",
          "text": [
            "    school sex  age address famsize Pstatus  Medu  Fedu      Mjob      Fjob  \\\n",
            "0       GP   F   18       U     GT3       A     4     4   at_home   teacher   \n",
            "1       GP   F   17       U     GT3       T     1     1   at_home     other   \n",
            "2       GP   F   15       U     LE3       T     1     1   at_home     other   \n",
            "3       GP   F   15       U     GT3       T     4     2    health  services   \n",
            "4       GP   F   16       U     GT3       T     3     3     other     other   \n",
            "..     ...  ..  ...     ...     ...     ...   ...   ...       ...       ...   \n",
            "390     MS   M   20       U     LE3       A     2     2  services  services   \n",
            "391     MS   M   17       U     LE3       T     3     1  services  services   \n",
            "392     MS   M   21       R     GT3       T     1     1     other     other   \n",
            "393     MS   M   18       R     LE3       T     3     2  services     other   \n",
            "394     MS   M   19       U     LE3       T     1     1     other   at_home   \n",
            "\n",
            "     reason guardian  \n",
            "0    course   mother  \n",
            "1    course   father  \n",
            "2     other   mother  \n",
            "3      home   mother  \n",
            "4      home   father  \n",
            "..      ...      ...  \n",
            "390  course    other  \n",
            "391  course   mother  \n",
            "392  course    other  \n",
            "393  course   mother  \n",
            "394  course   father  \n",
            "\n",
            "[395 rows x 12 columns]\n"
          ]
        }
      ],
      "execution_count": null
    },
    {
      "cell_type": "markdown",
      "metadata": {
        "pycharm": {
          "name": "#%% md\n"
        },
        "id": "XnF-O5MX3BCr"
      },
      "source": [
        "### Step 5. Create a lambda function that will capitalize strings."
      ]
    },
    {
      "cell_type": "code",
      "metadata": {
        "pycharm": {
          "name": "#%%\n"
        },
        "ExecuteTime": {
          "end_time": "2025-05-14T02:13:34.631567Z",
          "start_time": "2025-05-14T02:13:34.622571Z"
        },
        "colab": {
          "base_uri": "https://localhost:8080/"
        },
        "id": "CvPJFRFB3BCr",
        "outputId": "b5ab385f-977d-4a38-9710-6d75d4255e3c"
      },
      "source": [
        "capitalize_string = lambda x: x.capitalize()\n",
        "sample_string = \"hello world\"\n",
        "capitalized_string = capitalize_string(sample_string)\n",
        "print(capitalized_string)\n"
      ],
      "outputs": [
        {
          "output_type": "stream",
          "name": "stdout",
          "text": [
            "Hello world\n"
          ]
        }
      ],
      "execution_count": null
    },
    {
      "cell_type": "markdown",
      "metadata": {
        "pycharm": {
          "name": "#%% md\n"
        },
        "id": "UEvFZRil3BCr"
      },
      "source": [
        "### Step 6. Capitalize both Mjob and Fjob"
      ]
    },
    {
      "cell_type": "code",
      "metadata": {
        "pycharm": {
          "name": "#%%\n"
        },
        "ExecuteTime": {
          "end_time": "2025-05-14T02:14:24.585575Z",
          "start_time": "2025-05-14T02:14:24.566907Z"
        },
        "colab": {
          "base_uri": "https://localhost:8080/"
        },
        "id": "IQ6IFPaC3BCr",
        "outputId": "4979b1b8-3087-43a7-e4d7-dc2307668c6b"
      },
      "source": [
        "df['Mjob'] = df['Mjob'].apply(lambda x: x.capitalize())\n",
        "df['Fjob'] = df['Fjob'].apply(lambda x: x.capitalize())\n",
        "print(df[['Mjob', 'Fjob']].head())\n"
      ],
      "outputs": [
        {
          "output_type": "stream",
          "name": "stdout",
          "text": [
            "      Mjob      Fjob\n",
            "0  At_home   Teacher\n",
            "1  At_home     Other\n",
            "2  At_home     Other\n",
            "3   Health  Services\n",
            "4    Other     Other\n"
          ]
        }
      ],
      "execution_count": null
    },
    {
      "cell_type": "markdown",
      "metadata": {
        "pycharm": {
          "name": "#%% md\n"
        },
        "id": "Q-WD-PuY3BCr"
      },
      "source": [
        "### Step 7. Print the last elements of the data set."
      ]
    },
    {
      "cell_type": "code",
      "metadata": {
        "pycharm": {
          "name": "#%%\n"
        },
        "ExecuteTime": {
          "end_time": "2025-05-14T02:14:54.210359Z",
          "start_time": "2025-05-14T02:14:54.171117Z"
        },
        "colab": {
          "base_uri": "https://localhost:8080/"
        },
        "id": "tryZ4tBX3BCr",
        "outputId": "bc3aed9f-e94c-4e4c-a072-e19e8f176d8c"
      },
      "source": [
        "print(df.tail())\n",
        "print(df.tail(10))\n"
      ],
      "outputs": [
        {
          "output_type": "stream",
          "name": "stdout",
          "text": [
            "    school sex  age address famsize Pstatus  Medu  Fedu      Mjob      Fjob  \\\n",
            "390     MS   M   20       U     LE3       A     2     2  Services  Services   \n",
            "391     MS   M   17       U     LE3       T     3     1  Services  Services   \n",
            "392     MS   M   21       R     GT3       T     1     1     Other     Other   \n",
            "393     MS   M   18       R     LE3       T     3     2  Services     Other   \n",
            "394     MS   M   19       U     LE3       T     1     1     Other   At_home   \n",
            "\n",
            "     ... famrel freetime  goout  Dalc  Walc health absences  G1  G2  G3  \n",
            "390  ...      5        5      4     4     5      4       11   9   9   9  \n",
            "391  ...      2        4      5     3     4      2        3  14  16  16  \n",
            "392  ...      5        5      3     3     3      3        3  10   8   7  \n",
            "393  ...      4        4      1     3     4      5        0  11  12  10  \n",
            "394  ...      3        2      3     3     3      5        5   8   9   9  \n",
            "\n",
            "[5 rows x 33 columns]\n",
            "    school sex  age address famsize Pstatus  Medu  Fedu      Mjob      Fjob  \\\n",
            "385     MS   F   18       R     GT3       T     2     2   At_home     Other   \n",
            "386     MS   F   18       R     GT3       T     4     4   Teacher   At_home   \n",
            "387     MS   F   19       R     GT3       T     2     3  Services     Other   \n",
            "388     MS   F   18       U     LE3       T     3     1   Teacher  Services   \n",
            "389     MS   F   18       U     GT3       T     1     1     Other     Other   \n",
            "390     MS   M   20       U     LE3       A     2     2  Services  Services   \n",
            "391     MS   M   17       U     LE3       T     3     1  Services  Services   \n",
            "392     MS   M   21       R     GT3       T     1     1     Other     Other   \n",
            "393     MS   M   18       R     LE3       T     3     2  Services     Other   \n",
            "394     MS   M   19       U     LE3       T     1     1     Other   At_home   \n",
            "\n",
            "     ... famrel freetime  goout  Dalc  Walc health absences  G1  G2  G3  \n",
            "385  ...      5        3      3     1     3      4        2  10   9  10  \n",
            "386  ...      4        4      3     2     2      5        7   6   5   6  \n",
            "387  ...      5        4      2     1     2      5        0   7   5   0  \n",
            "388  ...      4        3      4     1     1      1        0   7   9   8  \n",
            "389  ...      1        1      1     1     1      5        0   6   5   0  \n",
            "390  ...      5        5      4     4     5      4       11   9   9   9  \n",
            "391  ...      2        4      5     3     4      2        3  14  16  16  \n",
            "392  ...      5        5      3     3     3      3        3  10   8   7  \n",
            "393  ...      4        4      1     3     4      5        0  11  12  10  \n",
            "394  ...      3        2      3     3     3      5        5   8   9   9  \n",
            "\n",
            "[10 rows x 33 columns]\n"
          ]
        }
      ],
      "execution_count": null
    },
    {
      "cell_type": "markdown",
      "metadata": {
        "pycharm": {
          "name": "#%% md\n"
        },
        "id": "OzuCtE4_3BCs"
      },
      "source": [
        "### Step 8. Did you notice the original dataframe is still lowercase? Why is that? Fix it and capitalize Mjob and Fjob."
      ]
    },
    {
      "cell_type": "code",
      "metadata": {
        "pycharm": {
          "name": "#%%\n"
        },
        "ExecuteTime": {
          "end_time": "2025-05-14T02:15:25.235744Z",
          "start_time": "2025-05-14T02:15:25.217074Z"
        },
        "colab": {
          "base_uri": "https://localhost:8080/"
        },
        "id": "jPi1r7533BCs",
        "outputId": "4d0e0996-9c04-46c3-9cf5-15abfb071c04"
      },
      "source": [
        "df['Mjob'] = df['Mjob'].apply(lambda x: x.capitalize())\n",
        "df['Fjob'] = df['Fjob'].apply(lambda x: x.capitalize())\n",
        "print(df[['Mjob', 'Fjob']].head())\n"
      ],
      "outputs": [
        {
          "output_type": "stream",
          "name": "stdout",
          "text": [
            "      Mjob      Fjob\n",
            "0  At_home   Teacher\n",
            "1  At_home     Other\n",
            "2  At_home     Other\n",
            "3   Health  Services\n",
            "4    Other     Other\n"
          ]
        }
      ],
      "execution_count": null
    },
    {
      "cell_type": "markdown",
      "metadata": {
        "pycharm": {
          "name": "#%% md\n"
        },
        "id": "2yx8TgaL3BCs"
      },
      "source": [
        "### Step 9. Create a function called majority that returns a boolean value to a new column called legal_drinker (Consider majority as older than 17 years old)"
      ]
    },
    {
      "cell_type": "code",
      "metadata": {
        "pycharm": {
          "name": "#%%\n"
        },
        "ExecuteTime": {
          "end_time": "2025-05-14T02:15:57.993557Z",
          "start_time": "2025-05-14T02:15:57.972196Z"
        },
        "colab": {
          "base_uri": "https://localhost:8080/"
        },
        "id": "hec3y2it3BCs",
        "outputId": "37e592f5-2208-4386-edcc-a3a3b75d0097"
      },
      "source": [
        "def majority(age):\n",
        "    return age > 17\n",
        "\n",
        "df['legal_drinker'] = df['age'].apply(majority)\n",
        "print(df[['age', 'legal_drinker']].head())\n"
      ],
      "outputs": [
        {
          "output_type": "stream",
          "name": "stdout",
          "text": [
            "   age  legal_drinker\n",
            "0   18           True\n",
            "1   17          False\n",
            "2   15          False\n",
            "3   15          False\n",
            "4   16          False\n"
          ]
        }
      ],
      "execution_count": null
    },
    {
      "cell_type": "code",
      "execution_count": null,
      "metadata": {
        "pycharm": {
          "name": "#%%\n"
        },
        "id": "LieiJED43BCs"
      },
      "outputs": [],
      "source": []
    },
    {
      "cell_type": "markdown",
      "metadata": {
        "pycharm": {
          "name": "#%% md\n"
        },
        "id": "Fvtef0q63BCs"
      },
      "source": [
        "### Step 10. Multiply every number of the dataset by 10.\n",
        "##### I know this makes no sense, don't forget it is just an exercise"
      ]
    },
    {
      "cell_type": "code",
      "metadata": {
        "pycharm": {
          "name": "#%%\n"
        },
        "ExecuteTime": {
          "end_time": "2025-05-14T02:17:22.301586Z",
          "start_time": "2025-05-14T02:17:22.274322Z"
        },
        "colab": {
          "base_uri": "https://localhost:8080/"
        },
        "id": "xql2fvq-3BCs",
        "outputId": "1c2aa9e5-2b8b-4220-b9d7-cfe127b9ddbe"
      },
      "source": [
        "df_numeric = df.select_dtypes(include=['number'])\n",
        "df_numeric = df_numeric * 10\n",
        "df[df_numeric.columns] = df_numeric\n",
        "print(df.head())\n"
      ],
      "outputs": [
        {
          "output_type": "stream",
          "name": "stdout",
          "text": [
            "  school sex  age address famsize Pstatus  Medu  Fedu     Mjob      Fjob  ...  \\\n",
            "0     GP   F  180       U     GT3       A    40    40  At_home   Teacher  ...   \n",
            "1     GP   F  170       U     GT3       T    10    10  At_home     Other  ...   \n",
            "2     GP   F  150       U     LE3       T    10    10  At_home     Other  ...   \n",
            "3     GP   F  150       U     GT3       T    40    20   Health  Services  ...   \n",
            "4     GP   F  160       U     GT3       T    30    30    Other     Other  ...   \n",
            "\n",
            "  freetime goout  Dalc  Walc  health absences   G1   G2   G3 legal_drinker  \n",
            "0       30    40    10    10      30       60   50   60   60          True  \n",
            "1       30    30    10    10      30       40   50   50   60         False  \n",
            "2       30    20    20    30      30      100   70   80  100         False  \n",
            "3       20    20    10    10      50       20  150  140  150         False  \n",
            "4       30    20    10    20      50       40   60  100  100         False  \n",
            "\n",
            "[5 rows x 34 columns]\n"
          ]
        }
      ],
      "execution_count": null
    }
  ],
  "metadata": {
    "anaconda-cloud": {},
    "kernelspec": {
      "display_name": "Python 3 (ipykernel)",
      "language": "python",
      "name": "python3"
    },
    "language_info": {
      "codemirror_mode": {
        "name": "ipython",
        "version": 2
      },
      "file_extension": ".py",
      "mimetype": "text/x-python",
      "name": "python",
      "nbconvert_exporter": "python",
      "pygments_lexer": "ipython2",
      "version": "2.7.12"
    },
    "colab": {
      "provenance": [],
      "include_colab_link": true
    }
  },
  "nbformat": 4,
  "nbformat_minor": 0
}
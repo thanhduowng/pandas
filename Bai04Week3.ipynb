{
  "cells": [
    {
      "cell_type": "markdown",
      "metadata": {
        "id": "view-in-github",
        "colab_type": "text"
      },
      "source": [
        "<a href=\"https://colab.research.google.com/github/thanhduowng/pandas/blob/main/Bai04Week3.ipynb\" target=\"_parent\"><img src=\"https://colab.research.google.com/assets/colab-badge.svg\" alt=\"Open In Colab\"/></a>"
      ]
    },
    {
      "cell_type": "markdown",
      "metadata": {
        "pycharm": {
          "name": "#%% md\n"
        },
        "id": "0F-wZZ_xvIfR"
      },
      "source": [
        "# Ex - GroupBy"
      ]
    },
    {
      "cell_type": "markdown",
      "metadata": {
        "pycharm": {
          "name": "#%% md\n"
        },
        "id": "B5F-8AXzvIfR"
      },
      "source": [
        "### Introduction:\n",
        "\n",
        "GroupBy can be summarized as Split-Apply-Combine.\n",
        "\n",
        "Special thanks to: https://github.com/justmarkham for sharing the dataset and materials.\n",
        "\n",
        "Check out this [Diagram](http://i.imgur.com/yjNkiwL.png)  \n",
        "### Step 1. Import the necessary libraries"
      ]
    },
    {
      "cell_type": "code",
      "execution_count": null,
      "metadata": {
        "pycharm": {
          "name": "#%%\n"
        },
        "id": "1cDvItS-vIfS"
      },
      "outputs": [],
      "source": [
        "import pandas as pd\n",
        "import numpy as np\n",
        "import matplotlib.pyplot as plt\n",
        "import seaborn as sns"
      ]
    },
    {
      "cell_type": "markdown",
      "metadata": {
        "pycharm": {
          "name": "#%% md\n"
        },
        "id": "0noG8u88vIfS"
      },
      "source": [
        "### Step 2. Import the dataset from this [address](https://github.com/thieu1995/csv-files/blob/main/data/pandas/drinks.csv)."
      ]
    },
    {
      "cell_type": "markdown",
      "metadata": {
        "pycharm": {
          "name": "#%% md\n"
        },
        "id": "0p7KDdgfvIfS"
      },
      "source": [
        "### Step 3. Assign it to a variable called drinks."
      ]
    },
    {
      "cell_type": "code",
      "execution_count": null,
      "metadata": {
        "pycharm": {
          "name": "#%%\n"
        },
        "colab": {
          "base_uri": "https://localhost:8080/"
        },
        "id": "c0oOBafIvIfS",
        "outputId": "9f93e1ab-be21-4ee9-ef64-823f4c5a5cf1"
      },
      "outputs": [
        {
          "output_type": "stream",
          "name": "stdout",
          "text": [
            "         country  beer_servings  spirit_servings  wine_servings  \\\n",
            "0    Afghanistan              0                0              0   \n",
            "1        Albania             89              132             54   \n",
            "2        Algeria             25                0             14   \n",
            "3        Andorra            245              138            312   \n",
            "4         Angola            217               57             45   \n",
            "..           ...            ...              ...            ...   \n",
            "188    Venezuela            333              100              3   \n",
            "189      Vietnam            111                2              1   \n",
            "190        Yemen              6                0              0   \n",
            "191       Zambia             32               19              4   \n",
            "192     Zimbabwe             64               18              4   \n",
            "\n",
            "     total_litres_of_pure_alcohol continent  \n",
            "0                             0.0        AS  \n",
            "1                             4.9        EU  \n",
            "2                             0.7        AF  \n",
            "3                            12.4        EU  \n",
            "4                             5.9        AF  \n",
            "..                            ...       ...  \n",
            "188                           7.7        SA  \n",
            "189                           2.0        AS  \n",
            "190                           0.1        AS  \n",
            "191                           2.5        AF  \n",
            "192                           4.7        AF  \n",
            "\n",
            "[193 rows x 6 columns]\n"
          ]
        }
      ],
      "source": [
        "url = \"https://raw.githubusercontent.com/thieu1995/csv-files/main/data/pandas/drinks.csv\"\n",
        "drinks = pd.read_csv(url)\n",
        "print(drinks)"
      ]
    },
    {
      "cell_type": "markdown",
      "metadata": {
        "pycharm": {
          "name": "#%% md\n"
        },
        "id": "NzADV2J_vIfS"
      },
      "source": [
        "### Step 4. Which continent drinks more beer on average?"
      ]
    },
    {
      "cell_type": "code",
      "execution_count": null,
      "metadata": {
        "pycharm": {
          "name": "#%%\n"
        },
        "colab": {
          "base_uri": "https://localhost:8080/"
        },
        "id": "gfPrDr04vIfS",
        "outputId": "dffa6207-5342-4bde-8207-b3a2494df47c"
      },
      "outputs": [
        {
          "output_type": "stream",
          "name": "stdout",
          "text": [
            "EU 193.77777777777777\n"
          ]
        }
      ],
      "source": [
        "avg_beer_by_continent = drinks.groupby('continent')['beer_servings'].mean()\n",
        "\n",
        "continent_max_beer = avg_beer_by_continent.idxmax()\n",
        "max_beer_value = avg_beer_by_continent.max()\n",
        "\n",
        "print(continent_max_beer, max_beer_value)"
      ]
    },
    {
      "cell_type": "markdown",
      "metadata": {
        "pycharm": {
          "name": "#%% md\n"
        },
        "id": "0pzYGOUovIfS"
      },
      "source": [
        "### Step 5. For each continent print the statistics for wine consumption."
      ]
    },
    {
      "cell_type": "code",
      "execution_count": null,
      "metadata": {
        "pycharm": {
          "name": "#%%\n"
        },
        "colab": {
          "base_uri": "https://localhost:8080/"
        },
        "id": "VBirLXpOvIfS",
        "outputId": "21a933de-97cb-4cd0-867f-68a3436cdd3c"
      },
      "outputs": [
        {
          "output_type": "stream",
          "name": "stdout",
          "text": [
            "           count        mean        std  min   25%    50%     75%    max\n",
            "continent                                                               \n",
            "AF          53.0   16.264151  38.846419  0.0   1.0    2.0   13.00  233.0\n",
            "AS          44.0    9.068182  21.667034  0.0   0.0    1.0    8.00  123.0\n",
            "EU          45.0  142.222222  97.421738  0.0  59.0  128.0  195.00  370.0\n",
            "OC          16.0   35.625000  64.555790  0.0   1.0    8.5   23.25  212.0\n",
            "SA          12.0   62.416667  88.620189  1.0   3.0   12.0   98.50  221.0\n"
          ]
        }
      ],
      "source": [
        "wine_stats_by_continent = drinks.groupby('continent')['wine_servings'].describe()\n",
        "print(wine_stats_by_continent)"
      ]
    },
    {
      "cell_type": "markdown",
      "metadata": {
        "pycharm": {
          "name": "#%% md\n"
        },
        "id": "OiQoaRyKvIfT"
      },
      "source": [
        "### Step 6. Print the mean alcohol consumption per continent for every column"
      ]
    },
    {
      "cell_type": "code",
      "execution_count": null,
      "metadata": {
        "pycharm": {
          "name": "#%%\n"
        },
        "colab": {
          "base_uri": "https://localhost:8080/"
        },
        "id": "Qmtub5MJvIfT",
        "outputId": "ac74d184-08c9-4087-be01-7565b7fb6b52"
      },
      "outputs": [
        {
          "output_type": "stream",
          "name": "stdout",
          "text": [
            "           beer_servings  spirit_servings  wine_servings  \\\n",
            "continent                                                  \n",
            "AF             61.471698        16.339623      16.264151   \n",
            "AS             37.045455        60.840909       9.068182   \n",
            "EU            193.777778       132.555556     142.222222   \n",
            "OC             89.687500        58.437500      35.625000   \n",
            "SA            175.083333       114.750000      62.416667   \n",
            "\n",
            "           total_litres_of_pure_alcohol  \n",
            "continent                                \n",
            "AF                             3.007547  \n",
            "AS                             2.170455  \n",
            "EU                             8.617778  \n",
            "OC                             3.381250  \n",
            "SA                             6.308333  \n"
          ]
        }
      ],
      "source": [
        "numeric_columns = drinks.select_dtypes(include=['float64', 'int64']).columns\n",
        "mean_alcohol_consumption = drinks.groupby('continent')[numeric_columns].mean()\n",
        "print(mean_alcohol_consumption)"
      ]
    },
    {
      "cell_type": "markdown",
      "metadata": {
        "pycharm": {
          "name": "#%% md\n"
        },
        "id": "C61J9RydvIfT"
      },
      "source": [
        "### Step 7. Print the median alcohol consumption per continent for every column"
      ]
    },
    {
      "cell_type": "code",
      "execution_count": null,
      "metadata": {
        "pycharm": {
          "name": "#%%\n"
        },
        "colab": {
          "base_uri": "https://localhost:8080/"
        },
        "id": "aTr1On6SvIfT",
        "outputId": "8390aab9-80c7-4f9b-cca8-97e8be95d88f"
      },
      "outputs": [
        {
          "output_type": "stream",
          "name": "stdout",
          "text": [
            "           beer_servings  spirit_servings  wine_servings  \\\n",
            "continent                                                  \n",
            "AF                  32.0              3.0            2.0   \n",
            "AS                  17.5             16.0            1.0   \n",
            "EU                 219.0            122.0          128.0   \n",
            "OC                  52.5             37.0            8.5   \n",
            "SA                 162.5            108.5           12.0   \n",
            "\n",
            "           total_litres_of_pure_alcohol  \n",
            "continent                                \n",
            "AF                                 2.30  \n",
            "AS                                 1.20  \n",
            "EU                                10.00  \n",
            "OC                                 1.75  \n",
            "SA                                 6.85  \n"
          ]
        }
      ],
      "source": [
        "numeric_columns = drinks.select_dtypes(include=['float64', 'int64']).columns\n",
        "median_alcohol_consumption = drinks.groupby('continent')[numeric_columns].median()\n",
        "print(median_alcohol_consumption)"
      ]
    },
    {
      "cell_type": "markdown",
      "metadata": {
        "pycharm": {
          "name": "#%% md\n"
        },
        "id": "CkBHUN20vIfT"
      },
      "source": [
        "### Step 8. Print the mean, min and max values for spirit consumption.\n",
        "#### This time output a DataFrame"
      ]
    },
    {
      "cell_type": "code",
      "execution_count": null,
      "metadata": {
        "pycharm": {
          "name": "#%%\n"
        },
        "colab": {
          "base_uri": "https://localhost:8080/"
        },
        "id": "GKUwaxICvIfT",
        "outputId": "c6ad8468-1e0f-4bfb-9a58-b2ff854e8320"
      },
      "outputs": [
        {
          "output_type": "stream",
          "name": "stdout",
          "text": [
            "                 mean  min  max\n",
            "continent                      \n",
            "AF          16.339623    0  152\n",
            "AS          60.840909    0  326\n",
            "EU         132.555556    0  373\n",
            "OC          58.437500    0  254\n",
            "SA         114.750000   25  302\n"
          ]
        }
      ],
      "source": [
        "spirit_stats = drinks.groupby('continent')['spirit_servings'].agg(['mean', 'min', 'max'])\n",
        "print(spirit_stats)"
      ]
    }
  ],
  "metadata": {
    "kernelspec": {
      "display_name": "Python 2",
      "language": "python",
      "name": "python2"
    },
    "language_info": {
      "codemirror_mode": {
        "name": "ipython",
        "version": 2
      },
      "file_extension": ".py",
      "mimetype": "text/x-python",
      "name": "python",
      "nbconvert_exporter": "python",
      "pygments_lexer": "ipython2",
      "version": "2.7.16"
    },
    "colab": {
      "provenance": [],
      "include_colab_link": true
    }
  },
  "nbformat": 4,
  "nbformat_minor": 0
}